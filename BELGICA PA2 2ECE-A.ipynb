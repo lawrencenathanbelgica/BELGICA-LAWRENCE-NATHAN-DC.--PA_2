{
 "cells": [
  {
   "cell_type": "markdown",
   "id": "d223e287-dbe4-41e9-a901-e8601b50d5dd",
   "metadata": {},
   "source": [
    "## NORMALIZATION PROBLEM: \n",
    "\n",
    "Normalization is one of the most basic preprocessing techniques in\n",
    "data analytics. This involves centering and scaling process. Centering means subtracting the data from the\n",
    "mean and scaling means dividing with its standard deviation."
   ]
  },
  {
   "cell_type": "code",
   "execution_count": 1,
   "id": "658c3715-1bc8-4f7e-9e32-4cb68759ab5a",
   "metadata": {},
   "outputs": [
    {
     "name": "stdout",
     "output_type": "stream",
     "text": [
      "Original Array :\n",
      " [[0.21122186 0.07415366 0.14214556 0.96231907 0.47033538]\n",
      " [0.10870159 0.64421553 0.60967158 0.59935145 0.30845438]\n",
      " [0.53976583 0.48895139 0.29327916 0.16533702 0.28990805]\n",
      " [0.46078334 0.30712577 0.41112324 0.37313899 0.84664304]\n",
      " [0.645597   0.44136869 0.1261998  0.73405565 0.42044378]]\n",
      "\n",
      "Mean of X: 0.4269716327993073\n",
      "Standard Deviation of X: 0.22939313997586885\n",
      "\n",
      "Normalized Array:\n",
      " [[-0.94052409 -1.53804938 -1.24165034  2.33375523  0.18903681]\n",
      " [-1.38744358  0.94703748  0.79644906  0.75146019 -0.51665563]\n",
      " [ 0.49170694  0.2701901  -0.58280937 -1.14055117 -0.59750516]\n",
      " [ 0.14739632 -0.52244744 -0.06908837 -0.23467417  1.82948544]\n",
      " [ 0.95305974  0.0627615  -1.31116313  1.33868003 -0.02845704]]\n",
      "\n",
      "Normalized array saved as 'X_normalized.npy'\n"
     ]
    }
   ],
   "source": [
    "# Import numpy library\n",
    "import numpy as np\n",
    "\n",
    "# np.random.rand(5,5) generates random numbers between 0 and 1\n",
    "X = np.random.rand(5, 5)\n",
    "\n",
    "# .mean() computes the average of all elements\n",
    "mean_X = X.mean()\n",
    "\n",
    "# .std() computes how spread out the values are\n",
    "std_X = X.std()\n",
    "\n",
    "# Normalize X using the formula Z = (X - mean) / std\n",
    "X_normalized = (X - mean_X) / std_X\n",
    "\n",
    "# .npy is a file format used by NumPy to save arrays\n",
    "np.save(\"X_normalized.npy\", X_normalized)\n",
    "\n",
    "\n",
    "print(\"Original Array :\\n\", X)\n",
    "print(\"\\nMean of X:\", mean_X)\n",
    "print(\"Standard Deviation of X:\", std_X)\n",
    "print(\"\\nNormalized Array:\\n\", X_normalized)\n",
    "print(\"\\nNormalized array saved as 'X_normalized.npy'\")"
   ]
  },
  {
   "cell_type": "markdown",
   "id": "b1a28cc7-dd13-479e-9dab-7b9612736512",
   "metadata": {},
   "source": [
    "## DIVISIBLE BY 3 PROBLEM: \n",
    "\n",
    "Create the following 10 x 10 ndarray which are the squares of the first 100 positive integers From this ndarray, determine all the elements that are divisible by 3. Save the result as div_by_3.np\n",
    "\n"
   ]
  },
  {
   "cell_type": "code",
   "execution_count": 5,
   "id": "dddfff76-1109-4dc0-834f-00224c5a7f7e",
   "metadata": {},
   "outputs": [
    {
     "name": "stdout",
     "output_type": "stream",
     "text": [
      "Matrix A (10x10 with squares): \n",
      " \n",
      "[[    1     4     9    16    25    36    49    64    81   100]\n",
      " [  121   144   169   196   225   256   289   324   361   400]\n",
      " [  441   484   529   576   625   676   729   784   841   900]\n",
      " [  961  1024  1089  1156  1225  1296  1369  1444  1521  1600]\n",
      " [ 1681  1764  1849  1936  2025  2116  2209  2304  2401  2500]\n",
      " [ 2601  2704  2809  2916  3025  3136  3249  3364  3481  3600]\n",
      " [ 3721  3844  3969  4096  4225  4356  4489  4624  4761  4900]\n",
      " [ 5041  5184  5329  5476  5625  5776  5929  6084  6241  6400]\n",
      " [ 6561  6724  6889  7056  7225  7396  7569  7744  7921  8100]\n",
      " [ 8281  8464  8649  8836  9025  9216  9409  9604  9801 10000]]\n",
      "\n",
      " Numbers divisible by 3: \n",
      "\n",
      "[   9   36   81  144  225  324  441  576  729  900 1089 1296 1521 1764\n",
      " 2025 2304 2601 2916 3249 3600 3969 4356 4761 5184 5625 6084 6561 7056\n",
      " 7569 8100 8649 9216 9801]\n",
      "\n",
      "Output Saved as div_by_3.npy\n"
     ]
    }
   ],
   "source": [
    "import numpy as np\n",
    "\n",
    "# Create an array of numbers from 1 to 100\n",
    "numbers = np.arange(1, 101)\n",
    "\n",
    "# Square each number (these are the squares of the first 100 positive integers)\n",
    "squares = numbers ** 2\n",
    "\n",
    "# Reshape into a 10x10 matrix (ndarray)\n",
    "A = squares.reshape(10, 10)\n",
    "print(\"Matrix A (10x10 with squares): \\n \")\n",
    "print(A)\n",
    "\n",
    "# Find all elements divisible by 3 using modulo operator\n",
    "div3 = A[A % 3 == 0]\n",
    "print(\"\\n Numbers divisible by 3: \\n\")\n",
    "print(divisible_by_3)\n",
    "\n",
    "# Save the result into a .npy file\n",
    "np.save(\"div_by_3.npy\", div3)\n",
    "\n",
    "print ('\\nOutput Saved as div_by_3.npy')"
   ]
  }
 ],
 "metadata": {
  "kernelspec": {
   "display_name": "Python [conda env:base] *",
   "language": "python",
   "name": "conda-base-py"
  },
  "language_info": {
   "codemirror_mode": {
    "name": "ipython",
    "version": 3
   },
   "file_extension": ".py",
   "mimetype": "text/x-python",
   "name": "python",
   "nbconvert_exporter": "python",
   "pygments_lexer": "ipython3",
   "version": "3.13.5"
  }
 },
 "nbformat": 4,
 "nbformat_minor": 5
}
